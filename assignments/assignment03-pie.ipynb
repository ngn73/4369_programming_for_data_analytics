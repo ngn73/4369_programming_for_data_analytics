{
 "cells": [
  {
   "cell_type": "markdown",
   "id": "fbd27a30",
   "metadata": {},
   "source": [
    "## 25-26: 4369 -- PROGRAMMING FOR DATA ANALYTICS  \n",
    "## Topic 03 :Acquiring Data  \n",
    "\n",
    "# Assignment 3 domains  \n",
    "Author:  Niall Naughton  \n",
    "Date:  12/10/2025  "
   ]
  },
  {
   "cell_type": "markdown",
   "id": "8b44e38d",
   "metadata": {},
   "source": [
    "***\n",
    "Create a notebook called assignment03-pie.ipynb\n",
    "The note book should have a nice pie chart of peoples email domains in the csv file at the url\n",
    "https://drive.google.com/uc?id=1AWPf-pJodJKeHsARQK_RHiNsE8fjPCVK&export=download\n",
    "This csv file has 1000 people. You may download the data or link to it.\n",
    "\n",
    "Marks will be given for:\n",
    "* Just creating the pie chart\n",
    "* Making it look nice\n",
    "As always your code should be well laid out.\n",
    "\n",
    "If you are having difficulties, know I will be doing more on Pie charts later in this module.\n",
    "***\n"
   ]
  },
  {
   "cell_type": "markdown",
   "id": "c204d1cd",
   "metadata": {},
   "source": [
    "### Investigating the Data Source:   \n",
    "The Data is sourced from the URL :   \n",
    "https://drive.google.com/uc?id=1AWPf-pJodJKeHsARQK_RHiNsE8fjPCVK&export=download  \n",
    "\n",
    "Protocol: HTTPS  \n",
    "Host: drive.google.com  \n",
    "Resource: id=1AWPf-pJodJKeHsARQK_RHiNsE8fjPCVK  (people-1000.csv)\n",
    "\n",
    "The file **people-1000.csv** is a comma separated file with 1000 rows of data and a header.\n",
    "It has 9 Columns :  \n",
    "*Index  \n",
    "User Id  \n",
    "First Name  \n",
    "Last Name  \n",
    "Sex  \n",
    "Email  \n",
    "Phone  \n",
    "Date of birth  \n",
    "Job Title*\n",
    "\n",
    "\n",
    "Lets use Pandas to load Data from and get info summary ..."
   ]
  },
  {
   "cell_type": "code",
   "execution_count": null,
   "id": "629288da",
   "metadata": {},
   "outputs": [],
   "source": [
    "import pandas as pd\n",
    "\n",
    "data_url = 'https://drive.google.com/uc?id=1AWPf-pJodJKeHsARQK_RHiNsE8fjPCVK&export=download'\n",
    "df = pd.read_csv(data_url)\n",
    "\n",
    "df.info()"
   ]
  },
  {
   "cell_type": "markdown",
   "id": "5ddf78b8",
   "metadata": {},
   "source": [
    "As per Assignment instructions, we are interested in the Email column and the list of unique domains (and later the counts for each domains)  \n",
    "Lets try and list the unique domain names with python ...  \n",
    "*(Note use of square brackets and the resultant returned Series or Dataframe)*"
   ]
  },
  {
   "cell_type": "code",
   "execution_count": null,
   "id": "53db7dd0",
   "metadata": {},
   "outputs": [],
   "source": [
    "emails_s = df['Email'] #Returns a Series object\n",
    "emails_df = df[['Email']] #Returns a Dataframe object\n",
    "# DataFrame object has no attribute 'unique' ... So lets use a Series\n",
    "\n",
    "#separate out the email domain from Series and add new column to Dataframe\n",
    "df['Domain'] = emails_s.str.split('@').str[1]\n",
    "\n",
    "#look at the unique domain name\n",
    "\n",
    "print(df['Domain'].unique())\n",
    "\n",
    "#Look at the unique domain counts\n",
    "domain_counts = df['Domain'].value_counts()\n",
    "print(domain_counts)"
   ]
  },
  {
   "cell_type": "markdown",
   "id": "f6e5d501",
   "metadata": {},
   "source": [
    "***\n",
    "## Plotting Unique Domain Counts   \n",
    "Lets plot a basic Pie chart using **MatPlotLib** Library ..."
   ]
  },
  {
   "cell_type": "code",
   "execution_count": null,
   "id": "2ee6397e",
   "metadata": {},
   "outputs": [],
   "source": [
    "#import required modules \n",
    "import pandas as pd\n",
    "import matplotlib.pyplot as plt\n",
    "\n",
    "\n",
    "plt.figure(figsize=(7,7))\n",
    "plt.pie(domain_counts, labels=domain_counts.index)\n",
    "plt.title(\"Basic Email Domain Pie Distribution\")\n",
    "plt.show() "
   ]
  },
  {
   "cell_type": "markdown",
   "id": "5c6640f8",
   "metadata": {},
   "source": [
    "***\n",
    "Lets looks at more advanced formatting of a Pie Chart with Legend, Shadow and wedgeprops (with exploded slice)...   \n",
    "Ref : https://matplotlib.org/stable/gallery/pie_and_polar_charts/pie_features.html   \n",
    "Tested in [my-work python file](<../my-work/Lab Topic 03/PieChart_test.py>)"
   ]
  },
  {
   "cell_type": "code",
   "execution_count": null,
   "id": "6ce5c524",
   "metadata": {},
   "outputs": [],
   "source": [
    "\n",
    "plt.figure(figsize=(7,7), facecolor = 'Beige')\n",
    "wp = {'edgecolor': 'white', 'linewidth': 3, 'alpha': 0.8}  # slice style\n",
    "explode = (0.1, 0.0, 0.0)  # only \"explode\" the 1st slice\n",
    "plt.pie(\n",
    "    domain_counts,\n",
    "    labels=domain_counts.index,     # labels on slices\n",
    "    explode=explode,                #explode slices\n",
    "    autopct='%1.1f%%',              # percentage labels\n",
    "    startangle=90,                  # start from top\n",
    "    shadow=True,                    # add shadow effect\n",
    "    wedgeprops=wp\n",
    ")\n",
    "plt.title(\"Advanced Email Domain Pie Distribution\")\n",
    "\n",
    "#Add a Legend\n",
    "plt.legend(\n",
    "    domain_counts.index,\n",
    "    title=\"Email Domains\",\n",
    "    bbox_to_anchor=(1.05, 0.9),     # position to the right\n",
    "    loc='upper left'\n",
    ")\n",
    "plt.show() "
   ]
  }
 ],
 "metadata": {
  "kernelspec": {
   "display_name": "base",
   "language": "python",
   "name": "python3"
  },
  "language_info": {
   "codemirror_mode": {
    "name": "ipython",
    "version": 3
   },
   "file_extension": ".py",
   "mimetype": "text/x-python",
   "name": "python",
   "nbconvert_exporter": "python",
   "pygments_lexer": "ipython3",
   "version": "3.12.7"
  }
 },
 "nbformat": 4,
 "nbformat_minor": 5
}
