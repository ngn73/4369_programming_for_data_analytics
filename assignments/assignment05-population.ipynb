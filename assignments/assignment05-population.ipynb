{
 "cells": [
  {
   "cell_type": "markdown",
   "id": "5fdd425c",
   "metadata": {},
   "source": [
    "## 25-26: 4369 -- PROGRAMMING FOR DATA ANALYTICS  \n",
    "## Topic 05 :Population Statistics   \n",
    "   \n",
    "# Assignment 5 Population  \n",
    "Author:  Niall Naughton  \n",
    "Date:  25/10/2025  "
   ]
  },
  {
   "cell_type": "markdown",
   "id": "74da6598",
   "metadata": {},
   "source": [
    "***\n",
    "## <font color=\"crimson\">Part 1 70%</font>\n",
    "Write a jupyter notebook that analyses the differences between the sexes by age in Ireland.\n",
    "\n",
    "* Weighted mean age (by sex)\n",
    "* The difference between the sexes by age\n",
    "This part does not need to look at the regions.\n",
    "\n",
    "ie You can take the notebook I used in the lectures and substitute the sexes for the regions."
   ]
  },
  {
   "cell_type": "markdown",
   "id": "14166450",
   "metadata": {},
   "source": [
    "Data extracted from cso.ie website.  \n",
    "Census->Census2022->Summary Results  \n",
    "\n",
    "![alt text](resources/cso_link.png)   \n",
    "\n",
    "At base of page, select \"API Data Query\" to extract URL  \n",
    "* Format = CSV(1.0)  \n",
    "* RESTful URL  \n",
    "\n",
    "https://ws.cso.ie/public/api.restful/PxStat.Data.Cube_API.ReadDataset/FY006A/CSV/1.0/en   \n",
    "\n",
    "Use this URL extract CSV Data"
   ]
  },
  {
   "cell_type": "code",
   "execution_count": 76,
   "id": "5c36c6dc",
   "metadata": {},
   "outputs": [
    {
     "data": {
      "text/html": [
       "<div>\n",
       "<style scoped>\n",
       "    .dataframe tbody tr th:only-of-type {\n",
       "        vertical-align: middle;\n",
       "    }\n",
       "\n",
       "    .dataframe tbody tr th {\n",
       "        vertical-align: top;\n",
       "    }\n",
       "\n",
       "    .dataframe thead th {\n",
       "        text-align: right;\n",
       "    }\n",
       "</style>\n",
       "<table border=\"1\" class=\"dataframe\">\n",
       "  <thead>\n",
       "    <tr style=\"text-align: right;\">\n",
       "      <th></th>\n",
       "      <th>STATISTIC</th>\n",
       "      <th>Statistic Label</th>\n",
       "      <th>TLIST(A1)</th>\n",
       "      <th>CensusYear</th>\n",
       "      <th>C02199V02655</th>\n",
       "      <th>Sex</th>\n",
       "      <th>C02076V03371</th>\n",
       "      <th>Single Year of Age</th>\n",
       "      <th>C03789V04537</th>\n",
       "      <th>Administrative Counties</th>\n",
       "      <th>UNIT</th>\n",
       "      <th>VALUE</th>\n",
       "    </tr>\n",
       "  </thead>\n",
       "  <tbody>\n",
       "    <tr>\n",
       "      <th>9789</th>\n",
       "      <td>FY006AC01</td>\n",
       "      <td>Population</td>\n",
       "      <td>2022</td>\n",
       "      <td>2022</td>\n",
       "      <td>2</td>\n",
       "      <td>Female</td>\n",
       "      <td>650</td>\n",
       "      <td>100 years and over</td>\n",
       "      <td>2ae19629-149d-13a3-e055-000000000001</td>\n",
       "      <td>Cavan County Council</td>\n",
       "      <td>Number</td>\n",
       "      <td>12</td>\n",
       "    </tr>\n",
       "    <tr>\n",
       "      <th>9790</th>\n",
       "      <td>FY006AC01</td>\n",
       "      <td>Population</td>\n",
       "      <td>2022</td>\n",
       "      <td>2022</td>\n",
       "      <td>2</td>\n",
       "      <td>Female</td>\n",
       "      <td>650</td>\n",
       "      <td>100 years and over</td>\n",
       "      <td>2ae19629-14a4-13a3-e055-000000000001</td>\n",
       "      <td>Donegal County Council</td>\n",
       "      <td>Number</td>\n",
       "      <td>31</td>\n",
       "    </tr>\n",
       "    <tr>\n",
       "      <th>9791</th>\n",
       "      <td>FY006AC01</td>\n",
       "      <td>Population</td>\n",
       "      <td>2022</td>\n",
       "      <td>2022</td>\n",
       "      <td>2</td>\n",
       "      <td>Female</td>\n",
       "      <td>650</td>\n",
       "      <td>100 years and over</td>\n",
       "      <td>2ae19629-1495-13a3-e055-000000000001</td>\n",
       "      <td>Monaghan County Council</td>\n",
       "      <td>Number</td>\n",
       "      <td>7</td>\n",
       "    </tr>\n",
       "  </tbody>\n",
       "</table>\n",
       "</div>"
      ],
      "text/plain": [
       "      STATISTIC Statistic Label  TLIST(A1)  CensusYear C02199V02655     Sex  \\\n",
       "9789  FY006AC01      Population       2022        2022            2  Female   \n",
       "9790  FY006AC01      Population       2022        2022            2  Female   \n",
       "9791  FY006AC01      Population       2022        2022            2  Female   \n",
       "\n",
       "     C02076V03371  Single Year of Age                          C03789V04537  \\\n",
       "9789          650  100 years and over  2ae19629-149d-13a3-e055-000000000001   \n",
       "9790          650  100 years and over  2ae19629-14a4-13a3-e055-000000000001   \n",
       "9791          650  100 years and over  2ae19629-1495-13a3-e055-000000000001   \n",
       "\n",
       "      Administrative Counties    UNIT  VALUE  \n",
       "9789     Cavan County Council  Number     12  \n",
       "9790   Donegal County Council  Number     31  \n",
       "9791  Monaghan County Council  Number      7  "
      ]
     },
     "execution_count": 76,
     "metadata": {},
     "output_type": "execute_result"
    }
   ],
   "source": [
    "import pandas as pd\n",
    "\n",
    "url = \"https://ws.cso.ie/public/api.restful/PxStat.Data.Cube_API.ReadDataset/FY006A/CSV/1.0/en\"\n",
    "df = pd.read_csv(url)\n",
    "df.tail(3)"
   ]
  },
  {
   "cell_type": "markdown",
   "id": "7e768335",
   "metadata": {},
   "source": [
    "## Clean Population Dataset 1 : Format Columns  \n",
    "We are only interested in Columns \"Sex\", \"Administrative Counties\", \"Single Year of Age\", and \"Value\"   \n",
    "*Remove all other columns*   *\n",
    "* We are not analyzing County specific data ... So filter out records that are not \"ireland\"*  \n",
    "* We are analyzing Age specific data ... So filter out records with \"All ages\"  \n",
    "* We are analyzing Sex specific data ... So filter out records with \"Both Sexes\"  \n",
    "\n",
    "* Column Names could do with simplifying/shortening  \n",
    "* In Age Column, replace 'Under 1 year' with 0  \n",
    "* In Age Column, Remove all alpha charters and Convert to int64    "
   ]
  },
  {
   "cell_type": "code",
   "execution_count": 77,
   "id": "4a06e3c6",
   "metadata": {},
   "outputs": [
    {
     "name": "stdout",
     "output_type": "stream",
     "text": [
      "         Sex  Age                                 Region  VALUE\n",
      "3296    Male    0                                Ireland  29610\n",
      "3297    Male    0                  Carlow County Council    346\n",
      "3298    Male    0                    Dublin City Council   3188\n",
      "3299    Male    0  Dún Laoghaire Rathdown County Council   1269\n",
      "3300    Male    0                  Fingal County Council   2059\n",
      "...      ...  ...                                    ...    ...\n",
      "9787  Female  100               Roscommon County Council      7\n",
      "9788  Female  100                   Sligo County Council      9\n",
      "9789  Female  100                   Cavan County Council     12\n",
      "9790  Female  100                 Donegal County Council     31\n",
      "9791  Female  100                Monaghan County Council      7\n",
      "\n",
      "[6464 rows x 4 columns]\n"
     ]
    }
   ],
   "source": [
    "\n",
    "# Remove unwanted columns\n",
    "drop_col_list = ['STATISTIC', 'Statistic Label','TLIST(A1)','CensusYear','C02199V02655','C02076V03371','C03789V04537','UNIT']\n",
    "df.drop(columns=drop_col_list, inplace=True)\n",
    "\n",
    "# Filter \"Administrative Counties\" for Ireland only\n",
    "#df = df[df[\"Administrative Counties\"] == \"Ireland\"]\n",
    "#Filter \"Single Year of Age\" by removing \"all Ages\n",
    "df = df[df[\"Single Year of Age\"] != \"All ages\"]\n",
    "#Filter \"Sex\" by removing \"Both Sexes\"\n",
    "df = df[df[\"Sex\"] != \"Both sexes\"]\n",
    "\n",
    "#Tidy up Column Names by renaming them\n",
    "df.rename(columns={'Administrative Counties': 'Region', 'Single Year of Age': 'Age'}, inplace=True)\n",
    "\n",
    "#Format Age Column (replace 'Under 1 year' with 0, and convert to int)\n",
    "df['Age'] = df['Age'].str.replace('Under 1 year', '0')\n",
    "df['Age'] = df['Age'].str.replace('\\\\D', '', regex=True)\n",
    "# Convert columns to int64\n",
    "df['Age']=df['Age'].astype('int64')\n",
    "df['VALUE']=df['VALUE'].astype('int64')\n",
    "\n",
    "#review formatted dataframe\n",
    "print(df)"
   ]
  },
  {
   "cell_type": "markdown",
   "id": "e399a58c",
   "metadata": {},
   "source": [
    "## Clean Population Dataset 2 : Pivot Dataframe  \n",
    "For a given age, We have Male and Female Population Data in 2 separate Rows.   \n",
    "These 2 population datapoints should be \"pivoted\" horizontally across columns on a singe row   \n",
    "\n",
    "With the Pivot, 'Age' and 'Region' are not regular columns anymore — they have been moved into the index (row labels)  \n",
    "We need 'Age' and 'Region' back as normal columns with the **reset_index()** method  \n",
    "Furthermore, After pivoting, pandas keeps the name of the previous column (Sex) and attaches it to the name of the index.   \n",
    "We need to remove this misleading name"
   ]
  },
  {
   "cell_type": "code",
   "execution_count": 78,
   "id": "6c8d2a29",
   "metadata": {},
   "outputs": [
    {
     "name": "stdout",
     "output_type": "stream",
     "text": [
      "      Age                           Region  Female  Male\n",
      "0       0            Carlow County Council     353   346\n",
      "1       0             Cavan County Council     501   505\n",
      "2       0             Clare County Council     691   686\n",
      "3       0                Cork City Council    1124  1159\n",
      "4       0              Cork County Council    2055  2135\n",
      "...   ...                              ...     ...   ...\n",
      "3227  100         Tipperary County Council      19     4\n",
      "3228  100  Waterford City & County Council      15     4\n",
      "3229  100         Westmeath County Council       9     3\n",
      "3230  100           Wexford County Council      14     2\n",
      "3231  100           Wicklow County Council      15     3\n",
      "\n",
      "[3232 rows x 4 columns]\n",
      "<class 'pandas.core.frame.DataFrame'>\n",
      "RangeIndex: 3232 entries, 0 to 3231\n",
      "Data columns (total 4 columns):\n",
      " #   Column  Non-Null Count  Dtype \n",
      "---  ------  --------------  ----- \n",
      " 0   Age     3232 non-null   int64 \n",
      " 1   Region  3232 non-null   object\n",
      " 2   Female  3232 non-null   int64 \n",
      " 3   Male    3232 non-null   int64 \n",
      "dtypes: int64(3), object(1)\n",
      "memory usage: 101.1+ KB\n"
     ]
    }
   ],
   "source": [
    "#pivot 'Male', 'Female' data into columns\n",
    "pivot_df = df.pivot(index=['Age', 'Region'], columns='Sex', values='VALUE')\n",
    "#We need Age and Region back as normal columns\n",
    "pivot_df = pivot_df.reset_index()\n",
    "#remove misleading index name\n",
    "pivot_df.index.name = None  \n",
    "pivot_df.columns.name = None   \n",
    "\n",
    "#review pivoted dataframe\n",
    "print (pivot_df)\n",
    "pivot_df.info()"
   ]
  },
  {
   "cell_type": "markdown",
   "id": "db22ce97",
   "metadata": {},
   "source": [
    "## Generate Weighted Mean Age (By Sex)\n",
    "The formula for a \"Weighted\" Mean is :  \n",
    "sum(age*population at age) / sum (populations at age)\n",
    "    \n",
    "    \n",
    "$\\bar{age}_w = \\frac{\\sum_{i=1}^{n} age_i * population_i}{\\sum_{i=1}^{n} population_i}$\n",
    "\n",
    "\n",
    "This calculation does not need to look at the specific regions."
   ]
  },
  {
   "cell_type": "code",
   "execution_count": 79,
   "id": "701d4981",
   "metadata": {},
   "outputs": [
    {
     "name": "stdout",
     "output_type": "stream",
     "text": [
      "Weighted Mean Male Age : 37.7394477371039\n",
      "Weighted Mean Female Age : 38.9397958987787\n"
     ]
    }
   ],
   "source": [
    "#get population data only for Ireland.\n",
    "df_pivot_ire = pivot_df[pivot_df['Region'] == 'Ireland']\n",
    "\n",
    "#Weighted mean is sum(age*population at age) / sum (populations at age)\n",
    "weighted_mean_male = (df_pivot_ire['Age'] * df_pivot_ire['Male']).sum() / df_pivot_ire['Male'].sum()\n",
    "weighted_mean_female = (df_pivot_ire['Age'] * df_pivot_ire['Female']).sum() / df_pivot_ire['Female'].sum()\n",
    "\n",
    "print(f\"Weighted Mean Male Age : {weighted_mean_male}\")\n",
    "print(f\"Weighted Mean Female Age : {weighted_mean_female}\")"
   ]
  },
  {
   "cell_type": "markdown",
   "id": "eb6409ca",
   "metadata": {},
   "source": [
    "## The difference between the sexes by age\n",
    "Lets look at Population difference between the sexes by age for wholes of Ireland"
   ]
  },
  {
   "cell_type": "code",
   "execution_count": 80,
   "id": "ece5e9ae",
   "metadata": {},
   "outputs": [
    {
     "name": "stdout",
     "output_type": "stream",
     "text": [
      "      Age   Male  Female  Difference\n",
      "11      0  29610   28186        1424\n",
      "43      1  28875   27545        1330\n",
      "75      2  30236   28974        1262\n",
      "107     3  31001   29483        1518\n",
      "139     4  31686   29819        1867\n",
      "...   ...    ...     ...         ...\n",
      "3083   96    327     956         629\n",
      "3115   97    217     732         515\n",
      "3147   98    130     492         362\n",
      "3179   99    105     336         231\n",
      "3211  100    154     584         430\n",
      "\n",
      "[101 rows x 4 columns]\n"
     ]
    },
    {
     "name": "stderr",
     "output_type": "stream",
     "text": [
      "C:\\Users\\Niall\\AppData\\Local\\Temp\\ipykernel_31940\\3378874046.py:2: SettingWithCopyWarning: \n",
      "A value is trying to be set on a copy of a slice from a DataFrame.\n",
      "Try using .loc[row_indexer,col_indexer] = value instead\n",
      "\n",
      "See the caveats in the documentation: https://pandas.pydata.org/pandas-docs/stable/user_guide/indexing.html#returning-a-view-versus-a-copy\n",
      "  df_pivot_ire['Difference'] = abs(df_pivot_ire['Male'] - df_pivot_ire['Female'])\n"
     ]
    }
   ],
   "source": [
    "#Use Absolute Difference Value\n",
    "df_pivot_ire['Difference'] = abs(df_pivot_ire['Male'] - df_pivot_ire['Female'])\n",
    "print(df_pivot_ire[['Age', 'Male', 'Female', 'Difference']])"
   ]
  },
  {
   "cell_type": "markdown",
   "id": "6246178d",
   "metadata": {},
   "source": [
    "***\n",
    "## <font color=\"crimson\">Part 2 20%</font>\n",
    "In the same notebook, make a variable that stores an age (say 35).\n",
    "\n",
    "Write that code that would group the people within 5 years of that age together, into one age group \n",
    "\n",
    "Calculate the population difference between the sexes in that age group.\n",
    "\n",
    "\n"
   ]
  },
  {
   "cell_type": "code",
   "execution_count": 60,
   "id": "f244941a",
   "metadata": {},
   "outputs": [
    {
     "name": "stdout",
     "output_type": "stream",
     "text": [
      "Total Irish Population for Male Age group (20 - 30) : 333702\n",
      "Total Irish Population for Female Age group (20 - 30) : 332948\n",
      "Total Irish Population difference between the sexes for Age Group (20 - 30) : 754\n"
     ]
    }
   ],
   "source": [
    "age_group = 25\n",
    "age_group_limit1 = age_group - 5;\n",
    "age_group_limit2 = age_group + 5;\n",
    "\n",
    "#again only look at Ireland data (df_pivot_ire)\n",
    "df_grouped = df_pivot_ire[(df_pivot_ire['Age'] >= age_group_limit1) & (df_pivot_ire['Age'] <= age_group_limit2)]\n",
    "agegroup_male_population = df_grouped['Male'].sum()\n",
    "agegroup_female_population = df_grouped['Female'].sum()\n",
    "agegroup_population_difference = abs(agegroup_male_population - agegroup_female_population)\n",
    "\n",
    "#print(df_grouped)\n",
    "\n",
    "print(f\"Total Irish Population for Male Age group ({age_group_limit1} - {age_group_limit2}) : {agegroup_male_population}\")\n",
    "print(f\"Total Irish Population for Female Age group ({age_group_limit1} - {age_group_limit2}) : {agegroup_female_population}\")\n",
    "\n",
    "print(f\"Total Irish Population difference between the sexes for Age Group ({age_group_limit1} - {age_group_limit2}) : {agegroup_population_difference}\")\n"
   ]
  },
  {
   "cell_type": "markdown",
   "id": "a590af89",
   "metadata": {},
   "source": [
    "***\n",
    "## <font color=\"crimson\">Part 3 10%</font>\n",
    "In the same notebook.\n",
    "\n",
    "Write the code that would work out which region in Ireland has the biggest population difference between the sexes in that age group"
   ]
  },
  {
   "cell_type": "code",
   "execution_count": null,
   "id": "64514636",
   "metadata": {},
   "outputs": [
    {
     "name": "stdout",
     "output_type": "stream",
     "text": [
      "Region with Maximum population difference between the Sexes for Age Group (25 - 35) is South Dublin County Council with difference of 1814 \n"
     ]
    }
   ],
   "source": [
    "max_population_diff = 0\n",
    "max_population_diff_region = \"\"\n",
    "\n",
    "age_group = 30\n",
    "age_group_limit1 = age_group - 5\n",
    "age_group_limit2 = age_group + 5\n",
    "\n",
    "#Iterate thru each Region in pivot_df ... but not Ireland this time\n",
    "for region in pivot_df['Region']:\n",
    "    if region != 'Ireland': #ignore total Ireland data\n",
    "        df_pivot_region = pivot_df[pivot_df['Region'] == region]\n",
    "        df_region_grouped = df_pivot_region[(df_pivot_region['Age'] >= age_group_limit1) & (df_pivot_region['Age'] <= age_group_limit2)]\n",
    "        region_male_population = df_region_grouped['Male'].sum()\n",
    "        region_female_population = df_region_grouped['Female'].sum()\n",
    "        region_population_difference = abs(region_male_population - region_female_population)\n",
    "        if (region_population_difference > max_population_diff):\n",
    "            max_population_diff = region_population_difference\n",
    "            max_population_diff_region = region\n",
    "\n",
    "print(f\"Region with Maximum population difference between the Sexes for Age Group ({age_group_limit1} - {age_group_limit2}) is {max_population_diff_region} with difference of {max_population_diff} \")"
   ]
  }
 ],
 "metadata": {
  "kernelspec": {
   "display_name": "base",
   "language": "python",
   "name": "python3"
  },
  "language_info": {
   "codemirror_mode": {
    "name": "ipython",
    "version": 3
   },
   "file_extension": ".py",
   "mimetype": "text/x-python",
   "name": "python",
   "nbconvert_exporter": "python",
   "pygments_lexer": "ipython3",
   "version": "3.12.3"
  }
 },
 "nbformat": 4,
 "nbformat_minor": 5
}
