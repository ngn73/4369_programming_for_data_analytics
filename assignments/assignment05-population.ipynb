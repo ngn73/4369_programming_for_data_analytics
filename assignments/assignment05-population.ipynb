{
 "cells": [
  {
   "cell_type": "markdown",
   "id": "5fdd425c",
   "metadata": {},
   "source": [
    "## 25-26: 4369 -- PROGRAMMING FOR DATA ANALYTICS  \n",
    "## Topic 05 :Population Statistics   \n",
    "   \n",
    "# Assignment 5 Population  \n",
    "Author:  Niall Naughton  \n",
    "Date:  25/10/2025  "
   ]
  }
 ],
 "metadata": {
  "language_info": {
   "name": "python"
  }
 },
 "nbformat": 4,
 "nbformat_minor": 5
}
